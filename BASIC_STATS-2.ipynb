{
  "nbformat": 4,
  "nbformat_minor": 0,
  "metadata": {
    "colab": {
      "provenance": []
    },
    "kernelspec": {
      "name": "python3",
      "display_name": "Python 3"
    },
    "language_info": {
      "name": "python"
    }
  },
  "cells": [
    {
      "cell_type": "markdown",
      "source": [
        "# **Build 99% Confidence Interval Using Sample Standard Deviation**"
      ],
      "metadata": {
        "id": "0Dr_BBtWv58p"
      }
    },
    {
      "cell_type": "code",
      "execution_count": 2,
      "metadata": {
        "colab": {
          "base_uri": "https://localhost:8080/"
        },
        "id": "X_AKg_j3t1QZ",
        "outputId": "8e43ad03-9654-46d5-d95e-eb89aa1aae58"
      },
      "outputs": [
        {
          "output_type": "execute_result",
          "data": {
            "text/plain": [
              "array([[1.13],\n",
              "       [1.55],\n",
              "       [1.43],\n",
              "       [0.92],\n",
              "       [1.25],\n",
              "       [1.36],\n",
              "       [1.32],\n",
              "       [0.85],\n",
              "       [1.07],\n",
              "       [1.48],\n",
              "       [1.2 ],\n",
              "       [1.33],\n",
              "       [1.18],\n",
              "       [1.22],\n",
              "       [1.29]])"
            ]
          },
          "metadata": {},
          "execution_count": 2
        }
      ],
      "source": [
        "import numpy as np\n",
        "std = 0.02\n",
        "df = np.array([[1.13],\n",
        "               [1.55],\n",
        "               [1.43],\n",
        "               [0.92],\n",
        "               [1.25],\n",
        "               [1.36],\n",
        "               [1.32],\n",
        "               [0.85],\n",
        "               [1.07],\n",
        "               [1.48],\n",
        "               [1.20],\n",
        "               [1.33],\n",
        "               [1.18],\n",
        "               [1.22],\n",
        "               [1.29]\n",
        "              ])\n",
        "df"
      ]
    },
    {
      "source": [
        "#MEAN\n",
        "mean_value = df.mean()\n",
        "print(float(mean_value))"
      ],
      "cell_type": "code",
      "metadata": {
        "colab": {
          "base_uri": "https://localhost:8080/"
        },
        "id": "-wctUgg4ufKB",
        "outputId": "6f99a52d-d37a-40a8-ce43-86d63b1b3197"
      },
      "execution_count": 5,
      "outputs": [
        {
          "output_type": "stream",
          "name": "stdout",
          "text": [
            "1.2386666666666666\n"
          ]
        }
      ]
    },
    {
      "cell_type": "code",
      "source": [
        "#STANDARD DEVIATION\n",
        "std_value = df.std()\n",
        "print(float(std_value))"
      ],
      "metadata": {
        "colab": {
          "base_uri": "https://localhost:8080/"
        },
        "id": "L7wbqBg0uIa1",
        "outputId": "45466b70-6d76-45d9-a3e2-b1e720b0961f"
      },
      "execution_count": 7,
      "outputs": [
        {
          "output_type": "stream",
          "name": "stdout",
          "text": [
            "0.18661427836285438\n"
          ]
        }
      ]
    },
    {
      "source": [
        "from scipy import stats\n",
        "interval = stats.norm.interval(0.99, loc=mean_value, scale=std_value)\n",
        "interval = tuple(float(x) for x in interval)\n",
        "interval"
      ],
      "cell_type": "code",
      "metadata": {
        "colab": {
          "base_uri": "https://localhost:8080/"
        },
        "id": "kPHFMi62vsbs",
        "outputId": "96a5694d-66cc-493d-9c27-721277d93d58"
      },
      "execution_count": 12,
      "outputs": [
        {
          "output_type": "execute_result",
          "data": {
            "text/plain": [
              "(0.7579801399989947, 1.7193531933343384)"
            ]
          },
          "metadata": {},
          "execution_count": 12
        }
      ]
    },
    {
      "cell_type": "markdown",
      "source": [
        "The code calculates a 99% confidence interval for a dataset. Let's break down the steps:\n",
        "\n",
        "1. **Import Libraries:**\n",
        "   - `numpy` (as `np`): Used for numerical operations, especially on arrays.\n",
        "   - `scipy.stats`: Provides statistical functions, including those for confidence intervals.\n",
        "\n",
        "2. **Define Data and Parameters:**\n",
        "   - `std = 0.02`:  This seems like a placeholder or potentially incorrect value.  The code *then calculates* the sample standard deviation, so this initial `std` isn't used in the confidence interval calculation.\n",
        "   - `df`: A NumPy array representing the dataset (15 measurements).\n",
        "\n",
        "3. **Calculate Sample Mean:**\n",
        "   - `mean_value = df.mean()`: Computes the average of the values in the `df` array.\n",
        "\n",
        "4. **Calculate Sample Standard Deviation:**\n",
        "   - `std_value = df.std()`: Calculates the standard deviation of the values in `df`.  This is the *sample* standard deviation, which is used in the confidence interval calculation since the population standard deviation is unknown.\n",
        "\n",
        "5. **Compute the Confidence Interval:**\n",
        "   - `interval = stats.norm.interval(0.99, loc=mean_value, scale=std_value)`: This is the core of the calculation.\n",
        "     - `0.99`:  Specifies a 99% confidence level.\n",
        "     - `loc=mean_value`:  The sample mean (calculated in step 3).\n",
        "     - `scale=std_value`: The sample standard deviation (calculated in step 4).\n",
        "\n",
        "   The `stats.norm.interval` function uses the normal distribution to compute the interval.  Because the sample size is 15, using the normal distribution is an approximation.  If the sample size were smaller, a t-distribution would be more appropriate.\n",
        "\n",
        "6. **Convert to Floats and Display:**\n",
        "   - `interval = tuple(float(x) for x in interval)`: The function returns a tuple (a fixed size list) of NumPy float64 values. This line converts those values to standard Python floats for printing.  This is not strictly necessary.\n",
        "   - `interval`: Displays the computed confidence interval.\n",
        "\n",
        "**In short:** The code takes a dataset, calculates its mean and standard deviation, and then uses these statistics to determine a range (the confidence interval) within which the true population mean is likely to fall 99% of the time if you were to repeat this sampling process many times.\n",
        "\n",
        "**Important Note about `std = 0.02`**:  The initial assignment of `std = 0.02` is irrelevant because the code calculates the *sample* standard deviation of the data using `df.std()`.  The provided `std` variable is never used in subsequent computations.  If the code's intent is to use a given standard deviation, that line needs to be removed and the variable substituted in place of `df.std()` in the confidence interval calculation.\n",
        "\n",
        "99 % confindance that population mean will be lies under this interval (.7579801399989947, 1.7193531933343384)"
      ],
      "metadata": {
        "id": "euC-4sr-0DgD"
      }
    },
    {
      "cell_type": "markdown",
      "source": [
        "# **Build 99% Confidence Interval Using Known Population Standard Deviation**"
      ],
      "metadata": {
        "id": "WyEt-EjyxcV9"
      }
    },
    {
      "cell_type": "code",
      "source": [
        "# population standard deviation\n",
        "std = 0.2"
      ],
      "metadata": {
        "id": "pZ9eN5WExjbJ"
      },
      "execution_count": 13,
      "outputs": []
    },
    {
      "cell_type": "code",
      "source": [
        "from scipy.stats import norm\n",
        "\n",
        "interval = stats.norm.interval(0.99, loc = df.mean(), scale = std)\n",
        "interval = tuple(float(x) for x in interval)\n",
        "interval"
      ],
      "metadata": {
        "colab": {
          "base_uri": "https://localhost:8080/"
        },
        "id": "dLtquF7qx0Jf",
        "outputId": "a45f05b7-5e4d-48cb-dcfe-2a7be974761f"
      },
      "execution_count": 15,
      "outputs": [
        {
          "output_type": "execute_result",
          "data": {
            "text/plain": [
              "(0.7235008059568865, 1.7538325273764466)"
            ]
          },
          "metadata": {},
          "execution_count": 15
        }
      ]
    },
    {
      "cell_type": "markdown",
      "source": [
        "stats.norm.interval: This function uses the normal distribution to compute the confidence interval. Since the population standard deviation is known, the normal distribution is appropriate.\n",
        "\n",
        "0.99: Specifies a 99% confidence level.\n",
        "\n",
        "loc=df.mean(): Centers the interval at the sample mean.\n",
        "\n",
        "scale=std: Uses the provided population standard deviation(std = 0.2).\n",
        "\n",
        "Convert to floats: interval = tuple(float(x) for x in interval)\n",
        "\n",
        "Converts the endpoints to standard Python floats.\n",
        "\n",
        "There is a very high level of confidence (99%) that the actual average number of characters a print-head can print before failure falls between (0.7235008059568865, 1.7538325273764466) million characters."
      ],
      "metadata": {
        "id": "NloO5O0QzDPK"
      }
    }
  ]
}